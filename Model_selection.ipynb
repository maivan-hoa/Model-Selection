{
  "nbformat": 4,
  "nbformat_minor": 0,
  "metadata": {
    "colab": {
      "name": "Model selection.ipynb",
      "provenance": [],
      "authorship_tag": "ABX9TyORs8OU0BHfLJFITkGv/4S8",
      "include_colab_link": true
    },
    "kernelspec": {
      "name": "python3",
      "display_name": "Python 3"
    }
  },
  "cells": [
    {
      "cell_type": "markdown",
      "metadata": {
        "id": "view-in-github",
        "colab_type": "text"
      },
      "source": [
        "<a href=\"https://colab.research.google.com/github/maivan-hoa/Model-Selection/blob/main/Model_selection.ipynb\" target=\"_parent\"><img src=\"https://colab.research.google.com/assets/colab-badge.svg\" alt=\"Open In Colab\"/></a>"
      ]
    },
    {
      "cell_type": "markdown",
      "metadata": {
        "id": "WiK1pqBs1YGP"
      },
      "source": [
        "Phân tích để lựa chọn model trong bài toán phân loại văn bản\r\n",
        "\r\n",
        "Hiểu và sử dụng sklearn để đánh giá model"
      ]
    },
    {
      "cell_type": "code",
      "metadata": {
        "colab": {
          "base_uri": "https://localhost:8080/"
        },
        "id": "RzBZ1Y-82eSS",
        "outputId": "2ba0d8b5-bf0d-4484-f41d-c1c5a2ec4f70"
      },
      "source": [
        "from google.colab import drive\r\n",
        "drive.mount('/content/drive')\r\n",
        "%cd /content/drive/MyDrive/Machine Learning/Introduction DS"
      ],
      "execution_count": 1,
      "outputs": [
        {
          "output_type": "stream",
          "text": [
            "Mounted at /content/drive\n",
            "/content/drive/MyDrive/Machine Learning/Introduction DS\n"
          ],
          "name": "stdout"
        }
      ]
    },
    {
      "cell_type": "code",
      "metadata": {
        "id": "sRWExHPK1l2x",
        "colab": {
          "base_uri": "https://localhost:8080/"
        },
        "outputId": "e3169569-f313-4c1c-a36d-3072e2cd8588"
      },
      "source": [
        "import numpy as np\r\n",
        "import matplotlib.pyplot as plt\r\n",
        "from sklearn.model_selection import learning_curve\r\n",
        "from sklearn.datasets.base import load_files"
      ],
      "execution_count": 2,
      "outputs": [
        {
          "output_type": "stream",
          "text": [
            "/usr/local/lib/python3.6/dist-packages/sklearn/utils/deprecation.py:144: FutureWarning: The sklearn.datasets.base module is  deprecated in version 0.22 and will be removed in version 0.24. The corresponding classes / functions should instead be imported from sklearn.datasets. Anything that cannot be imported from sklearn.datasets is now part of the private API.\n",
            "  warnings.warn(message, FutureWarning)\n"
          ],
          "name": "stderr"
        }
      ]
    },
    {
      "cell_type": "markdown",
      "metadata": {
        "id": "yL84VKIk6T5Z"
      },
      "source": [
        "# **Load data from folder**\r\n",
        "\r\n",
        "Data:\r\n",
        "- Documents and their labels.\r\n",
        "- Sport label: \r\n",
        "    > \"Dân_trí Real Madrid đã dẫn trước trong cả trận đấu , nhưng họ vẫn phải chấp_nhận bị Dortmund cầm hòa 2-2 ở Bernabeu . Real Madrid chấp_nhận đứng thứ_hai ở bảng F Champions League ...\""
      ]
    },
    {
      "cell_type": "code",
      "metadata": {
        "id": "0Cp_5XNK6AOP"
      },
      "source": [
        "data_train = load_files(container_path = './Exercise/news_1135/', encoding='utf-8')"
      ],
      "execution_count": 3,
      "outputs": []
    },
    {
      "cell_type": "code",
      "metadata": {
        "id": "zcAkUYqS7Rst"
      },
      "source": [
        "data_train"
      ],
      "execution_count": null,
      "outputs": []
    },
    {
      "cell_type": "code",
      "metadata": {
        "colab": {
          "base_uri": "https://localhost:8080/"
        },
        "id": "lxTzm5nA851Y",
        "outputId": "95b84bcf-0222-4342-c421-1ecab5fe6119"
      },
      "source": [
        "print('The number of files: {}'.format(len(data_train.filenames)))"
      ],
      "execution_count": null,
      "outputs": [
        {
          "output_type": "stream",
          "text": [
            "The number of files: 1134\n"
          ],
          "name": "stdout"
        }
      ]
    },
    {
      "cell_type": "markdown",
      "metadata": {
        "id": "VrUHZM67BaTA"
      },
      "source": [
        "# **Divide data into 2 parts**"
      ]
    },
    {
      "cell_type": "code",
      "metadata": {
        "id": "MTUptwn49MFi"
      },
      "source": [
        "from sklearn.model_selection import train_test_split\r\n",
        "from sklearn.pipeline import Pipeline\r\n",
        "from sklearn.feature_extraction.text import CountVectorizer, TfidfVectorizer, TfidfTransformer\r\n",
        "\r\n",
        "# Transforming data\r\n",
        "# Convert text to tf-idf vector\r\n",
        "#   - Remove stop words\r\n",
        "#   - Generate the vocab\r\n",
        "module_count_vector = CountVectorizer() # tạo ma trận thưa chứa số lần xuất hiện các từ trong mỗi văn bản\r\n",
        "model_rf_preprocess = Pipeline([('vect', module_count_vector), # chuỗi hành động cần thực hiện (name, transform)\r\n",
        "                                ('tfidf', TfidfTransformer())])\r\n",
        "# để thực hiện được tfidf cần đếm số lần xuất hiện trước, các tham số của CountVectorizer() có thể có thêm từ điển, stop_word,...\r\n",
        "\r\n",
        "data_preprocessed = model_rf_preprocess.fit_transform(data_train.data)\r\n",
        "X_train, X_test, y_train, y_test = train_test_split(data_preprocessed, data_train.target, test_size=0.2)\r\n",
        "\r\n",
        "# fit() - học các tham số của mô hình\r\n",
        "# transform() - thực hiện biến đổi dl dựa trên các tham số của fit()\r\n",
        "# fit_transform() - kết hợp cả 2 cái trên"
      ],
      "execution_count": 4,
      "outputs": []
    },
    {
      "cell_type": "markdown",
      "metadata": {
        "id": "31IJMt8Vuuop"
      },
      "source": [
        "# **Build and learn the model**"
      ]
    },
    {
      "cell_type": "code",
      "metadata": {
        "id": "h3RR7z5RV6h5",
        "colab": {
          "base_uri": "https://localhost:8080/"
        },
        "outputId": "c7368488-9b0b-4c56-ed9b-0c16f03095a2"
      },
      "source": [
        "from sklearn import svm\r\n",
        "model = svm.SVC(kernel='linear', C=1.0)\r\n",
        "model.fit(X_train, y_train)"
      ],
      "execution_count": 11,
      "outputs": [
        {
          "output_type": "execute_result",
          "data": {
            "text/plain": [
              "SVC(C=1.0, break_ties=False, cache_size=200, class_weight=None, coef0=0.0,\n",
              "    decision_function_shape='ovr', degree=3, gamma='scale', kernel='linear',\n",
              "    max_iter=-1, probability=False, random_state=None, shrinking=True,\n",
              "    tol=0.001, verbose=False)"
            ]
          },
          "metadata": {
            "tags": []
          },
          "execution_count": 11
        }
      ]
    },
    {
      "cell_type": "markdown",
      "metadata": {
        "id": "s6GbhuopvRtg"
      },
      "source": [
        "**Evaluate**"
      ]
    },
    {
      "cell_type": "code",
      "metadata": {
        "colab": {
          "base_uri": "https://localhost:8080/"
        },
        "id": "NMtKi0RnvOWM",
        "outputId": "530f8ce5-b07c-4ba3-e0bb-e9bd2333129d"
      },
      "source": [
        "from sklearn.metrics import accuracy_score\r\n",
        "y_pred = model.predict(X_test)\r\n",
        "print('Accuracy = {}'.format(accuracy_score(y_test, y_pred)))"
      ],
      "execution_count": 12,
      "outputs": [
        {
          "output_type": "stream",
          "text": [
            "Accuracy = 0.8414096916299559\n"
          ],
          "name": "stdout"
        }
      ]
    },
    {
      "cell_type": "markdown",
      "metadata": {
        "id": "Hmpni9-3wC0w"
      },
      "source": [
        "# **Using cross-validation to evaluate models**"
      ]
    },
    {
      "cell_type": "code",
      "metadata": {
        "id": "5_XTnb3av6oT"
      },
      "source": [
        "# Xây dựng hàm vẽ biểu đồ cho các model khác nhau\r\n",
        "\r\n",
        "from sklearn.model_selection import learning_curve\r\n",
        "\r\n",
        "# function to generate different colors for ids\r\n",
        "def get_cmap(n):\r\n",
        "  return 'C' + str(n)\r\n",
        "\r\n",
        "# function to train the model, cross-validation and draw with matplotlib\r\n",
        "def plot_learning_curve(estimator, title, label_curve, X, y,train_sizes,cv=None, \r\n",
        "                        n_jobs=1, new_plot=False, idx_color=0):\r\n",
        "  '''\r\n",
        "    - estimator: model với tham số cụ thể nào đó\r\n",
        "    - title: tên model\r\n",
        "    - label_curve: tên của các line plot\r\n",
        "    - X: data train\r\n",
        "    - y: label\r\n",
        "    - cv: số lượng fold, một fold sẽ được sử dụng để test và các fold còn lại được\r\n",
        "          sử dụng để train\r\n",
        "    - n_jobs: Number of jobs to run in parallel. Training the estimator and \r\n",
        "              omputing the score are parallelized over the different training \r\n",
        "              and test sets. None means 1 unless in a joblib.parallel_backend \r\n",
        "              context. -1 means using all processors. See Glossary for more details.\r\n",
        "    - train_sizes: specifies the training set sizes to be used\r\n",
        "                   ex: train_sizes = [0.3, 0.5] means case 1 with 0.3: 0.3 for \r\n",
        "                   training and 0.7 for testing.\r\n",
        "                   case 2 with 0.5 means 0.5 for training and 0.5 for validating.\r\n",
        "    - idx_color: id của màu line\r\n",
        "    - new_plot: có vẽ hình mới hay không\r\n",
        "\r\n",
        "    kích thước tập train lấy từ train_sizes, chạy len(cv) lần, mỗi lần lấy ra 1 \r\n",
        "    fold để test -> điểm nối các line là các test score này\r\n",
        "  '''\r\n",
        "  # Make a new image:\r\n",
        "  if new_plot:\r\n",
        "    plt.figure()\r\n",
        "    plt.title(title)\r\n",
        "    plt.xlabel('Training size')\r\n",
        "    plt.ylabel('Accuracy')\r\n",
        "    plt.grid()\r\n",
        "\r\n",
        "  # Train the model and save some values while training\r\n",
        "  train_sizes, train_scores, test_scores = learning_curve(estimator, X, y, cv=cv,\r\n",
        "                      n_jobs=n_jobs, train_sizes=train_sizes, scoring='accuracy')\r\n",
        "  # Get the average of all output of folds\r\n",
        "  # train_scores là mảng 2 chiều, mỗi hàng tương ứng với 1 train_size, mỗi cột\r\n",
        "  # tương ứng 1 fold\r\n",
        "  train_scores_mean = np.mean(train_scores, axis=1)\r\n",
        "  train_scores_std = np.std(train_scores, axis=1)\r\n",
        "  test_scores_mean = np.mean(test_scores, axis=1)\r\n",
        "  test_scores_std = np.std(test_scores, axis=1)\r\n",
        "\r\n",
        "  # Select a color\r\n",
        "  color = get_cmap(idx_color)\r\n",
        "\r\n",
        "  # Draw\r\n",
        "  plt.plot(train_sizes, test_scores_mean, 'o-', color=color, label=label_curve)\r\n",
        "  plt.fill_between(train_sizes, test_scores_mean - test_scores_std,\r\n",
        "                   test_scores_mean + test_scores_std, alpha=0.1, color=color)\r\n",
        "  plt.legend(loc='best') # Tự tìm vị trí tốt nhất để đặt chú thích\r\n",
        "  return plt\r\n"
      ],
      "execution_count": 23,
      "outputs": []
    },
    {
      "cell_type": "markdown",
      "metadata": {
        "id": "4RCriqovB-vV"
      },
      "source": [
        "**Experiment with different parameters.**\r\n",
        "\r\n",
        "- For each model: random forest, svm, ... selecting parameters is different."
      ]
    },
    {
      "cell_type": "markdown",
      "metadata": {
        "id": "RWLpEEZ7CGcL"
      },
      "source": [
        "# **Change the number of trees for Random Forest model**"
      ]
    },
    {
      "cell_type": "code",
      "metadata": {
        "colab": {
          "base_uri": "https://localhost:8080/",
          "height": 295
        },
        "id": "uZyXi696DjaH",
        "outputId": "9e5d7116-023f-4a44-c7a9-9ff42d92293c"
      },
      "source": [
        "from sklearn.ensemble.forest import RandomForestClassifier\r\n",
        "title = 'Random Forest'\r\n",
        "for i, n_estimator in enumerate([20, 30, 50]):\r\n",
        "  # with each estimator, we will build and learn the corresponding model\r\n",
        "  rf = RandomForestClassifier(criterion='gini', n_estimators=n_estimator)\r\n",
        "  plt = plot_learning_curve(rf, title, \"n_estimators = {}\".format(n_estimator),\r\n",
        "                              data_preprocessed, data_train.target,\r\n",
        "                              train_sizes=np.linspace(.1, 1.0, 10),\r\n",
        "                              cv=10, n_jobs=-1, idx_color=i, new_plot=i == 0)\r\n",
        "plt.show()\r\n"
      ],
      "execution_count": 24,
      "outputs": [
        {
          "output_type": "display_data",
          "data": {
            "image/png": "[encoded data removed]",
            "text/plain": [
              "<Figure size 432x288 with 1 Axes>"
            ]
          },
          "metadata": {
            "tags": [],
            "needs_background": "light"
          }
        }
      ]
    },
    {
      "cell_type": "markdown",
      "metadata": {
        "id": "TPUa-qrqGW3s"
      },
      "source": [
        "# **Comparision of best models**"
      ]
    },
    {
      "cell_type": "code",
      "metadata": {
        "colab": {
          "base_uri": "https://localhost:8080/",
          "height": 295
        },
        "id": "_DITM2TKEw5g",
        "outputId": "b52f0ccd-6551-41da-9951-c1b0cd2546fe"
      },
      "source": [
        "title = 'Model competitive'\r\n",
        "\r\n",
        "best_models = [\r\n",
        "    svm.SVC(kernel='linear', C=1.0),\r\n",
        "    RandomForestClassifier(criterion='gini', n_estimators=50)\r\n",
        "]\r\n",
        "\r\n",
        "best_models_name = [\r\n",
        "    'svm.SVC',\r\n",
        "    'RandomForestClassifier'\r\n",
        "]\r\n",
        "\r\n",
        "for i, estimator in enumerate(best_models):\r\n",
        "  plt = plot_learning_curve(estimator, title, \"estimator = {}\".format(best_models_name[i]),\r\n",
        "                            data_preprocessed, data_train.target,\r\n",
        "                            train_sizes=np.linspace(.1, 1.0, 10),\r\n",
        "                            cv=10, n_jobs=-1, idx_color=i, new_plot=i == 0)\r\n",
        "plt.show()\r\n"
      ],
      "execution_count": 25,
      "outputs": [
        {
          "output_type": "display_data",
          "data": {
            "image/png": "[encoded data removed]",
            "text/plain": [
              "<Figure size 432x288 with 1 Axes>"
            ]
          },
          "metadata": {
            "tags": [],
            "needs_background": "light"
          }
        }
      ]
    },
    {
      "cell_type": "code",
      "metadata": {
        "id": "elf39L_2HY2d"
      },
      "source": [
        ""
      ],
      "execution_count": null,
      "outputs": []
    }
  ]
}